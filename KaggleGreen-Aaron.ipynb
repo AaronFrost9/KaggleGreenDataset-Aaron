{
 "cells": [
  {
   "cell_type": "code",
   "execution_count": null,
   "id": "a2c8aabb-075a-4591-8f44-671bcdf236e4",
   "metadata": {},
   "outputs": [],
   "source": [
    "import pandas as pd\n",
    "import seaborn\n",
    "import matplotlib.pyplot as plt\n",
    "\n",
    "# https://www.kaggle.com/datasets/nilimajauhari/amazon-prime-tv-shows\n",
    "url = ''\n",
    "\n",
    "#Prime_TV_Data = pd.read("
   ]
  }
 ],
 "metadata": {
  "kernelspec": {
   "display_name": "Python 3 (ipykernel)",
   "language": "python",
   "name": "python3"
  },
  "language_info": {
   "codemirror_mode": {
    "name": "ipython",
    "version": 3
   },
   "file_extension": ".py",
   "mimetype": "text/x-python",
   "name": "python",
   "nbconvert_exporter": "python",
   "pygments_lexer": "ipython3",
   "version": "3.9.6"
  }
 },
 "nbformat": 4,
 "nbformat_minor": 5
}
